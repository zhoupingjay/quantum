{
 "cells": [
  {
   "cell_type": "markdown",
   "metadata": {},
   "source": [
    "# Machine Learning Meets Quantum: Getting Started with TensorFlow Quantum"
   ]
  },
  {
   "cell_type": "markdown",
   "metadata": {},
   "source": [
    "Author: [Ping Zhou](http://github.com/zhoupingjay/quantum)"
   ]
  },
  {
   "cell_type": "markdown",
   "metadata": {},
   "source": [
    "## Introduction\n",
    "\n",
    "Earlier this year, Google announced [TensorFlow Quantum](https://www.tensorflow.org/quantum). It's a framework for building **Hybrid Quantum-Classical Machine Learning models**. So now we are entering the era of **Quantum Machine Learning** - sounds exciting!\n",
    "\n",
    "<img src=\"https://github.com/tensorflow/quantum/blob/master/docs/images/logo/tf_quantum_circle.jpg?raw=true\" width=600 />\n",
    "\n",
    "You may wonder how these two very different worlds work together, and what these hybrid ML models look like.\n",
    "In this notebook, I'm going to walk you through the [\"Hello, many world\"](https://www.tensorflow.org/quantum/tutorials/hello_many_worlds) example to explain the basic ideas of building quantum-classical hybrid ML model and how it works on a real problem."
   ]
  },
  {
   "cell_type": "markdown",
   "metadata": {},
   "source": [
    "## Concepts\n",
    "\n",
    "Before we start with the code, I'm going to explain some basic concepts that are needed for understanding this example. Don't be scared by the math notations in this section - they are not as hard as they might appear!\n",
    "\n",
    "Please be noted that this notebook does not serve as a tutorial of quantum computing - if you need more comprehensive information, please refer to a textbook."
   ]
  },
  {
   "cell_type": "markdown",
   "metadata": {},
   "source": [
    "### Qubit, State Vector and Bloch Sphere\n",
    "\n",
    "Qubit: You might have already heard about the term \"qubit\". Comparing to a classical bit that can be at either of the two states (e.g. 0 or 1) at any time, a qubit can be at a \"superposition\" of both states. The state of a qubit $|\\psi\\rangle$ can be expressed as:\n",
    "\n",
    "$$\n",
    "|\\psi\\rangle = \\alpha|0\\rangle + \\beta|1\\rangle\n",
    "$$\n",
    "\n",
    "Where $\\alpha$ and $\\beta$ are complex numbers that tell us the **probabilities** of measurement outcomes: If we measure the qubit, we have $|\\alpha|^2$ probability of getting $|0\\rangle$, and $|\\beta|^2$ probability of getting $|1\\rangle$ (and apparently we have $|\\alpha|^2+|\\beta|^2=1$).\n",
    "\n",
    "So a qubit can be represented as a **vector** with two complex numbers:\n",
    "$\n",
    "\\begin{pmatrix}\n",
    "\\alpha \\\\\n",
    "\\beta\n",
    "\\end{pmatrix}\n",
    "$\n",
    "\n",
    "Now we know how to describe a qubit. What about a quantum system? For a system with one or more qubits, we use **state vector** to describe the system's current state. The state vector of the system is the **tensor product** of all qubits in it. For example, if we have a system with two qubits\n",
    "$\\begin{pmatrix}\\alpha_1 \\\\ \\beta_1\\end{pmatrix}$ and $\\begin{pmatrix}\\alpha_2 \\\\ \\beta_2\\end{pmatrix}$, its state vector is their tensor product:\n",
    "$$\n",
    "\\begin{pmatrix}\\alpha_1 \\\\ \\beta_1\\end{pmatrix}\n",
    "\\otimes\n",
    "\\begin{pmatrix}\\alpha_2 \\\\ \\beta_2\\end{pmatrix} =\n",
    "\\begin{pmatrix}\n",
    "\\alpha_1\\alpha_2 \\\\\n",
    "\\alpha_1\\beta_2 \\\\\n",
    "\\beta_1\\alpha_2 \\\\\n",
    "\\beta_1\\beta_2\n",
    "\\end{pmatrix}\n",
    "$$\n",
    "\n",
    "If you have used [Cirq](https://github.com/quantumlib/Cirq) (Google's Quantum framework), you'll notice a ``final_state`` member in simulation results -- That's the state vector of the system. You may refer to [this notebook](https://github.com/zhoupingjay/quantum/blob/main/Quantum-Teleportation.ipynb) for an example usage of state vectors."
   ]
  },
  {
   "cell_type": "markdown",
   "metadata": {},
   "source": [
    "Another useful way of representing qubit is using the **Bloch Sphere**. Every qubit can be represented as a vector on the surface of the Bloch Sphere.\n",
    "\n",
    "<img src=\"./images/bloch-sphere.svg\" width=360 />\n",
    "<div style=\"text-align: center\">Bloch Sphere representation of qubit.</div>\n",
    "\n",
    "<!---\n",
    "A qubit $|\\psi\\rangle$ on Bloch sphere can also be written as:\n",
    "\n",
    "$$\n",
    "|\\psi\\rangle = \n",
    "\\begin{pmatrix}\n",
    "\\cos{\\frac{\\theta}{2}} \\\\\n",
    "e^{i\\phi}\\sin\\frac{\\theta}{2}\n",
    "\\end{pmatrix}\n",
    "$$\n",
    "-->"
   ]
  },
  {
   "cell_type": "markdown",
   "metadata": {},
   "source": [
    "### Operators and Observables\n",
    "\n",
    "**Operators**\n",
    "\n",
    "What are \"operators\"? In short, an operator tranform qubit(s) from one state to another. Since qubits can be written as vectors, the operators are essentially matrices.\n",
    "\n",
    "**Observables**\n",
    "\n",
    "Suppose we have a quantum system. How do we know about its state? The only way is through measurements.\n",
    "Physical quantities that can be measured are called [Observables](https://en.wikipedia.org/wiki/Observable).\n",
    "For example, position and momentum are observables.\n",
    "\n",
    "In quantum world, every observable correspond to a [Hermitian Operator](https://en.wikipedia.org/w/index.php?title=Hermitian_operator&redirect=no) - they are a set of operators with special properties (e.g. they equal to their conjugate transpose). In this example, we'll use **Z operator** as the observable. The matrix of Z operator is like this:\n",
    "\n",
    "$$\n",
    "Z=\n",
    "\\begin{bmatrix}\n",
    "1 & 0 \\\\\n",
    "0 & -1\n",
    "\\end{bmatrix}\n",
    "$$\n",
    "\n",
    "If you apply Z operator on a qubit $\\begin{pmatrix}\\alpha \\\\ \\beta\\end{pmatrix}$, you'll get this $\\begin{pmatrix}\\alpha \\\\ -\\beta\\end{pmatrix}$."
   ]
  },
  {
   "cell_type": "markdown",
   "metadata": {},
   "source": [
    "### Expectation Values\n",
    "\n",
    "Being able to get state vectors of your system is nice - it means you know everything of your system.\n",
    "Unfortunately this is only available in simulator.\n",
    "In real world, it's usually impossible to get the state vector of your system.\n",
    "Instead, what you'll get is the **expectation value** of your system.\n",
    "\n",
    "Expectation value is actually a concept from probability theory.\n",
    "Imagine you are throwing a dice which gives you a number between 1 and 6 each time.\n",
    "The expectation value of your dice is the **sum of all possible outcomes weighted by their probabilities**.\n",
    "Assuming your dice is perfect (i.e. each of the 6 outcomes has equal probability),\n",
    "the expectation value of your dice is:\n",
    "$$\n",
    "\\frac{1}{6}\\times 1 + \\frac{1}{6}\\times 2 + ... + \\frac{1}{6}\\times 6 = 3.5\n",
    "$$\n",
    "\n",
    "When we talk about an expectation value in quantum world, we need to specify both the **state** and the **operator (observable)**.\n",
    "\n",
    "For example, we won't say\n",
    ">\"Expecation value of this state vector is 0.5\"\n",
    "\n",
    "Instead, we'll say\n",
    ">\"Expectation value of this state vector **on Z operator** is 0.5\"*.\n",
    "\n",
    "Why? Because different observables will give different expectation values.\n",
    "As an analogy, think about projecting a vector onto an axis - choosing a different axis will give you different projection value.\n",
    "\n",
    "---\n",
    "So what exactly is the **expectation value of a state vector on Z operator**? To save your time, I'll just write down the answer here:\n",
    "\n",
    "* Expectation value of a state vector on Z observable is $\\cos\\theta$, which is its projection on Z axis.\n",
    "\n",
    "If you are interested, you are welcome to work out the mathematics. It's actually pretty straightforward. :-)"
   ]
  },
  {
   "cell_type": "markdown",
   "metadata": {},
   "source": [
    "We can look at a few examples to validate this conclusion:\n",
    "\n",
    "<img src=\"./images/bloch-sphere.svg\" width=360 />\n",
    "\n",
    "- If current state is at \"north pole\" of the Bloch Sphere, we get 100% chance of getting +Z from measurements. Expectation value is $\\cos 0 = 1$.\n",
    "- If current state is at \"south pole\" of the Bloch Sphere, we get 100% chance of getting -Z from measurements. Expectation value is $\\cos\\pi = -1$.\n",
    "- If current state is at point D on Bloch Sphere, we get 50% chance of getting +Z and 50% chance of -Z from measurements. Expectation value is $\\cos\\frac{\\pi}{2}=0$.\n",
    "\n",
    "Things match up. Fantastic!"
   ]
  },
  {
   "cell_type": "markdown",
   "metadata": {},
   "source": [
    "## What Are We Trying to Solve?\n",
    "\n",
    "To understand the hybrid model we are going to build, we need to first understand the problem we are trying to solve.\n",
    "\n",
    "Imagine we have a quantum circuit to run. The first thing we need to do is to prepare the initial qubits for the circuit (typically $|0\\rangle$ or $|1\\rangle$).\n",
    "\n",
    "In simulations, we assume perfect qubits to be fed into our circuit.\n",
    "But in the real world, our system is **noisy**. Therefore the qubits we prepare are not perfect - they could deviate from the states we want. If you consider this on Bloch Sphere, it is as if a \"perfect\" qubit has been rotated in X/Y/Z directions with unknown angles, making it imperfect. This can be emulated as putting Rotation gates on the perfect qubit.\n",
    "\n",
    "<img src=\"./images/tfq-noisy-circuit.svg\" alt=\"Noisy circuit\" width=360 />\n",
    "\n",
    "The angles $\\beta_1$, $\\beta_2$, $\\beta_3$ caused by noise are unknown to us.\n",
    "\n",
    "In order for any quantum computing circuit to run properly, we need to **calibrate** our qubit to the target state we want. How do we do that? We simply rotate the qubit on X/Y/Z directions again to compensate for the noises. So basically we'll apply Rotation gates to the noisy qubit:\n",
    "\n",
    "<img src=\"./images/tfq-calibration-circuit.svg\" alt=\"Noisy circuit\" width=360 />\n",
    "\n",
    "**Our problem** is to determine the three parameters ($\\theta_1$, $\\theta_2$, $\\theta_3$) for our calibration circuit. We'll build a quantum-classical hybrid machine learning model to solve this problem."
   ]
  },
  {
   "cell_type": "markdown",
   "metadata": {},
   "source": [
    "## Quantum-Classical Hybrid Machine Learning Model\n",
    "\n",
    "The original notebook has lot of details and may not be very straightforward. I find it a better way to look from a high level first.\n",
    "\n",
    "What we want to achieve is a model that calibrates noisy qubit:\n",
    "\n",
    "<img src=\"./images/hello-tfq-circuit.svg\" width=560 />\n",
    "\n",
    "Since we are building a Machine Learning model, we need to answer these important questions:\n",
    "- What are the inputs (datasets)?\n",
    "- What are the labels?\n",
    "- What are the outputs?\n",
    "\n",
    "To help you understand the whole picture, I made an architectural diagram of our hybrid Quantum-Classical ML model. I'll explain the components in the following sections.\n",
    "\n",
    "<img src=\"./images/hello-tfq-1.svg\" width=520 />\n",
    "<div style=\"text-align: center\">Overall architecture of our hybrid Quantum-Classical ML model.</div>\n",
    "<div style=\"text-align: center\">A simple DNN is used for the classical part, as the problem is fairly small.</div>\n",
    "\n",
    "### Datasets\n",
    "Our dataset includes two parts: commands and the noisy circuit.\n",
    "\n",
    "**Commands**\n",
    "\n",
    "\"Commands\" correpond to the target states we want our qubits to achieve.\n",
    "In this example, command 0 means we want the circuit to prepare a qubit at the \"south pole\" ($|0\\rangle$), and command 1 means \"north pole\" ($|1\\rangle$).\n",
    "\n",
    "**Noisy input**\n",
    "\n",
    "This is the circuit that emulates the noisy qubit that needs to be calibrated. TensorFlow Quantum (TFQ) provides a function ``tfq.convert_to_tensor`` to convert circuit objects from Cirq into tensors:\n",
    "\n",
    "```python\n",
    "circuit_tensor = tfq.convert_to_tensor([circuit])\n",
    "```\n",
    "\n",
    "### Labels\n",
    "\n",
    "The labels are the **expecation values of the target states** we want our qubits to achieve.\n",
    "In this example, we want the qubit to be at $|0\\rangle$ (for input command 0) or $|1\\rangle$ (for input command 1). As we have seen earlier, expectation values at $|0\\rangle$ and $|1\\rangle$ are 1 and -1 respectively. Therefore our labels correspond to input commands are ``[1, -1]``.\n",
    "\n",
    "### Outputs\n",
    "\n",
    "The outputs of our hybrid model are the expecation values of the calibrated qubits.\n",
    "\n",
    "### Model\n",
    "\n",
    "Our model will include both classical and quantum parts.\n",
    "* The **classical part** is the \"controller\" in the diagram. It's a normal DNN, nothing special. Its outputs are the parameters ($\\theta_1$, $\\theta_2$, $\\theta_3$) for calibration circuit.\n",
    "* The **quantum part** is the \"ControllPQC\" layer (we'll name it \"expection_layer\"). It takes the parameters ($\\theta_1$, $\\theta_2$, $\\theta_3$) from controller, uses them to run the calibration circuit (\"model_circuit\"), and feeds back the outputs (expectation values) to the controller for training.\n",
    "\n",
    "---\n",
    "So in summary, this is what we tell our model to do:\n",
    "\n",
    "> Here is a nosiy qubit (circuit_input) and two commands (0, 1). We want you to spit out the qubit with expectation value of 1 on command 0 and expection value of -1 on command 1.\n",
    "\n",
    "Does it make more sense now? :-)"
   ]
  },
  {
   "cell_type": "markdown",
   "metadata": {},
   "source": [
    "## Code Walkthrough\n",
    "\n",
    "Now we have a decent understanding of the problem and our model. Let's get to the code."
   ]
  },
  {
   "cell_type": "markdown",
   "metadata": {},
   "source": [
    "### Setup\n",
    "\n",
    "You'll need to install TensorFlow (2.3.1+) and TensorFlow Quantum on your computer. The easiest way is to use pip:\n",
    "\n",
    "```python\n",
    "pip install -q tensorflow==2.3.1\n",
    "pip install -q tensorflow-quantum\n",
    "```"
   ]
  },
  {
   "cell_type": "markdown",
   "metadata": {},
   "source": [
    "### Import modules\n",
    "\n",
    "Import TFQ and the dependency modules:"
   ]
  },
  {
   "cell_type": "code",
   "execution_count": 1,
   "metadata": {},
   "outputs": [],
   "source": [
    "import tensorflow as tf\n",
    "import tensorflow_quantum as tfq\n",
    "\n",
    "import cirq\n",
    "import sympy\n",
    "import numpy as np\n",
    "\n",
    "# visualization tools\n",
    "%matplotlib inline\n",
    "import matplotlib.pyplot as plt\n",
    "from cirq.contrib.svg import SVGCircuit"
   ]
  },
  {
   "cell_type": "markdown",
   "metadata": {},
   "source": [
    "### Prepare the Inputs\n",
    "\n",
    "First we'll create a qubit and prepare the dataset."
   ]
  },
  {
   "cell_type": "code",
   "execution_count": 2,
   "metadata": {},
   "outputs": [],
   "source": [
    "# This creates a \"perfect\" qubit at |0>.\n",
    "# It will be fed into the noisy preparation circuit to emulate a noisy qubit.\n",
    "qubit = cirq.GridQubit(0, 0)"
   ]
  },
  {
   "cell_type": "code",
   "execution_count": 3,
   "metadata": {},
   "outputs": [],
   "source": [
    "# Dataset: commands_input (0 and 1)\n",
    "commands = np.array([[0], [1]], dtype=np.float32)"
   ]
  },
  {
   "cell_type": "markdown",
   "metadata": {},
   "source": [
    "Create a noisy circuit with randomly generated angles, and convert it into tensor so it can be used by TensorFlow.\n",
    "\n",
    "Note that we'll need two copies of the circuit because we have two entries in the dataset (command 0 and command 1)."
   ]
  },
  {
   "cell_type": "code",
   "execution_count": 4,
   "metadata": {},
   "outputs": [],
   "source": [
    "# Dataset: circuit_input (noisy preparation)\n",
    "# This emulates the noisy qubit by applying X/Y/Z rotations with random angles.\n",
    "random_rotations = np.random.uniform(0, 2 * np.pi, 3)\n",
    "noisy_preparation = cirq.Circuit(\n",
    "  cirq.rx(random_rotations[0])(qubit),\n",
    "  cirq.ry(random_rotations[1])(qubit),\n",
    "  cirq.rz(random_rotations[2])(qubit)\n",
    ")\n",
    "\n",
    "# Convert the circuit object to tensor.\n",
    "# Two copies of the circuit because we have two commands (0 and 1) to train.\n",
    "datapoint_circuits = tfq.convert_to_tensor([\n",
    "  noisy_preparation\n",
    "] * 2)"
   ]
  },
  {
   "cell_type": "markdown",
   "metadata": {},
   "source": [
    "Print out the noisy circuit. We can see that the \"perfect\" qubit has been rotated on X, Y and Z axis with some random angles."
   ]
  },
  {
   "cell_type": "code",
   "execution_count": 5,
   "metadata": {},
   "outputs": [
    {
     "name": "stdout",
     "output_type": "stream",
     "text": [
      "[3.84902356 3.3647054  3.03737137]\n",
      "(0, 0): ───Rx(1.23π)───Ry(1.07π)───Rz(0.967π)───\n"
     ]
    }
   ],
   "source": [
    "# Print out the noisy qubit\n",
    "print(random_rotations)\n",
    "print(noisy_preparation)"
   ]
  },
  {
   "cell_type": "markdown",
   "metadata": {},
   "source": [
    "We'll then create the Keras input from the datasets.\n",
    "These will be used when we call tf.keras.Model() later."
   ]
  },
  {
   "cell_type": "code",
   "execution_count": 6,
   "metadata": {},
   "outputs": [],
   "source": [
    "# Create keras inputs from the datasets\n",
    "circuits_input = tf.keras.Input(shape=(),\n",
    "                                # The circuit-tensor has dtype `tf.string` \n",
    "                                dtype=tf.string,\n",
    "                                name='circuits_input')\n",
    "commands_input = tf.keras.Input(shape=(1,),\n",
    "                                dtype=tf.dtypes.float32,\n",
    "                                name='commands_input')"
   ]
  },
  {
   "cell_type": "markdown",
   "metadata": {},
   "source": [
    "### Prepare the Labels\n",
    "\n",
    "The labels are the expectation values we want for each command. In this example, we want 1 for command 0 and -1 for command 1."
   ]
  },
  {
   "cell_type": "code",
   "execution_count": 7,
   "metadata": {},
   "outputs": [],
   "source": [
    "# Labels: target expecation values (1 for command 0, -1 for command 1)\n",
    "expected_outputs = np.array([[1], [-1]], dtype=np.float32)"
   ]
  },
  {
   "cell_type": "markdown",
   "metadata": {},
   "source": [
    "### Build our model\n",
    "\n",
    "Classical part of the model is a simple DNN. Since the problem is fairly small, a simple DNN with two layers will be good enough."
   ]
  },
  {
   "cell_type": "code",
   "execution_count": 8,
   "metadata": {},
   "outputs": [],
   "source": [
    "# Classical part of our model - \"controller\".\n",
    "# Since the problem is fairly small, a simple DNN is enough.\n",
    "controller = tf.keras.Sequential([\n",
    "    tf.keras.layers.Dense(10, activation='elu'),\n",
    "    tf.keras.layers.Dense(3)\n",
    "])"
   ]
  },
  {
   "cell_type": "markdown",
   "metadata": {},
   "source": [
    "Then the quantum part of our label. We first use the Cirq API to build our calibration circuit (``model_circuit``) with three parameters ($\\theta_1$, $\\theta_2$, $\\theta_3$)."
   ]
  },
  {
   "cell_type": "code",
   "execution_count": 9,
   "metadata": {},
   "outputs": [
    {
     "data": {
      "image/svg+xml": [
       "<svg xmlns=\"http://www.w3.org/2000/svg\" width=\"409.108671875\" height=\"50.0\"><line x1=\"32.246796875\" x2=\"379.108671875\" y1=\"25.0\" y2=\"25.0\" stroke=\"#1967d2\" stroke-width=\"1\" /><rect x=\"10.0\" y=\"5.0\" width=\"44.49359375\" height=\"40\" stroke=\"black\" fill=\"white\" stroke-width=\"0\" /><text x=\"32.246796875\" y=\"25.0\" dominant-baseline=\"middle\" text-anchor=\"middle\" font-size=\"14px\" font-family=\"Arial\">(0, 0): </text><rect x=\"74.49359375\" y=\"5.0\" width=\"81.538359375\" height=\"40\" stroke=\"black\" fill=\"white\" stroke-width=\"1\" /><text x=\"115.2627734375\" y=\"25.0\" dominant-baseline=\"middle\" text-anchor=\"middle\" font-size=\"14px\" font-family=\"Arial\">Rz(theta_1)</text><rect x=\"176.03195312499997\" y=\"5.0\" width=\"81.538359375\" height=\"40\" stroke=\"black\" fill=\"white\" stroke-width=\"1\" /><text x=\"216.8011328125\" y=\"25.0\" dominant-baseline=\"middle\" text-anchor=\"middle\" font-size=\"14px\" font-family=\"Arial\">Ry(theta_2)</text><rect x=\"277.5703125\" y=\"5.0\" width=\"81.538359375\" height=\"40\" stroke=\"black\" fill=\"white\" stroke-width=\"1\" /><text x=\"318.3394921875\" y=\"25.0\" dominant-baseline=\"middle\" text-anchor=\"middle\" font-size=\"14px\" font-family=\"Arial\">Rx(theta_3)</text></svg>"
      ],
      "text/plain": [
       "<cirq.contrib.svg.svg.SVGCircuit at 0x7fefbd260d68>"
      ]
     },
     "execution_count": 9,
     "metadata": {},
     "output_type": "execute_result"
    }
   ],
   "source": [
    "# Quantum part of our model - \"model_circuit\"\n",
    "# Parameters that the classical NN will feed values into.\n",
    "control_params = sympy.symbols('theta_1 theta_2 theta_3')\n",
    "\n",
    "# Create the parameterized circuit.\n",
    "qubit = cirq.GridQubit(0, 0)\n",
    "model_circuit = cirq.Circuit(\n",
    "    cirq.rz(control_params[0])(qubit),\n",
    "    cirq.ry(control_params[1])(qubit),\n",
    "    cirq.rx(control_params[2])(qubit))\n",
    "\n",
    "SVGCircuit(model_circuit)"
   ]
  },
  {
   "cell_type": "markdown",
   "metadata": {},
   "source": [
    "How do we incorporate this calibration circuit (``model_circuit``) into our model? We need to wrap it into a Keras layer so it can be connected with other layers.\n",
    "\n",
    "In this example we'll wrap our circuit with the \"Parameterized Quantum Circuit\" (PQC) layer: ``tfq.layers.ControlledPQC``. We name it ``expectation_layer`` because it outputs the expection values.\n",
    "\n",
    "Also note the argument ``operators`` when we create the layer: Remember that we need to specify operator when we talk about expectation value. This is how we tell PQC that we'll take expectation values on Z operator.\n",
    "\n",
    "After ``expectation_layer`` is created, we then connect it with the noisy circuit (``circuits_input``) and calibration parameters (outputs from controller, which is ``dense_2``)."
   ]
  },
  {
   "cell_type": "code",
   "execution_count": 10,
   "metadata": {},
   "outputs": [],
   "source": [
    "dense_2 = controller(commands_input)\n",
    "\n",
    "# TFQ layer for classically controlled circuits.\n",
    "expectation_layer = tfq.layers.ControlledPQC(model_circuit,\n",
    "                                             # Observe Z\n",
    "                                             operators = cirq.Z(qubit))\n",
    "expectation = expectation_layer([circuits_input, dense_2])"
   ]
  },
  {
   "cell_type": "markdown",
   "metadata": {},
   "source": [
    "We then build the model in Keras just as usual."
   ]
  },
  {
   "cell_type": "code",
   "execution_count": 11,
   "metadata": {},
   "outputs": [],
   "source": [
    "model = tf.keras.Model(inputs=[circuits_input, commands_input],\n",
    "                       outputs=expectation)"
   ]
  },
  {
   "cell_type": "markdown",
   "metadata": {},
   "source": [
    "A little visualization of our model..."
   ]
  },
  {
   "cell_type": "code",
   "execution_count": 12,
   "metadata": {},
   "outputs": [
    {
     "data": {
      "image/png": "[encoded data removed]",
      "text/plain": [
       "<IPython.core.display.Image object>"
      ]
     },
     "execution_count": 12,
     "metadata": {},
     "output_type": "execute_result"
    }
   ],
   "source": [
    "tf.keras.utils.plot_model(model, show_shapes=True, dpi=70)"
   ]
  },
  {
   "cell_type": "markdown",
   "metadata": {},
   "source": [
    "### Train our model\n",
    "\n",
    "We then train our model just like a normal DNN, using Adam as optimizer and MSE as the loss function."
   ]
  },
  {
   "cell_type": "code",
   "execution_count": 13,
   "metadata": {},
   "outputs": [],
   "source": [
    "# Now we can train the model...\n",
    "optimizer = tf.keras.optimizers.Adam(learning_rate=0.05)\n",
    "loss = tf.keras.losses.MeanSquaredError()\n",
    "model.compile(optimizer=optimizer, loss=loss)\n",
    "history = model.fit(x=[datapoint_circuits, commands],\n",
    "                    y=expected_outputs,\n",
    "                    epochs=30,\n",
    "                    verbose=0)"
   ]
  },
  {
   "cell_type": "markdown",
   "metadata": {},
   "source": [
    "Training history shows that we are doing good..."
   ]
  },
  {
   "cell_type": "code",
   "execution_count": 14,
   "metadata": {},
   "outputs": [
    {
     "data": {
      "image/png": "[encoded data removed]",
      "text/plain": [
       "<Figure size 432x288 with 1 Axes>"
      ]
     },
     "metadata": {
      "needs_background": "light"
     },
     "output_type": "display_data"
    }
   ],
   "source": [
    "# Plot the history - looks good!\n",
    "plt.plot(history.history['loss'])\n",
    "plt.title(\"Learning to Control a Qubit\")\n",
    "plt.xlabel(\"Iterations\")\n",
    "plt.ylabel(\"Error in Control\")\n",
    "plt.show()"
   ]
  },
  {
   "cell_type": "markdown",
   "metadata": {},
   "source": [
    "### Verify our model\n",
    "\n",
    "We can verify our model by calling it with commands 0 and 1:"
   ]
  },
  {
   "cell_type": "code",
   "execution_count": 15,
   "metadata": {},
   "outputs": [
    {
     "data": {
      "text/plain": [
       "<tf.Tensor: shape=(2, 1), dtype=float32, numpy=\n",
       "array([[ 0.9891974],\n",
       "       [-0.9958328]], dtype=float32)>"
      ]
     },
     "execution_count": 15,
     "metadata": {},
     "output_type": "execute_result"
    }
   ],
   "source": [
    "model([datapoint_circuits, commands])"
   ]
  },
  {
   "cell_type": "markdown",
   "metadata": {},
   "source": [
    "As we can see, our model has calibrated the qubit into pretty well:\n",
    "- On command 0, it gave expectation value of 0.98114353\n",
    "- On command 1, it gave expectation value of -0.9409604\n",
    "\n",
    "Both are very close to the target (1 and -1)."
   ]
  },
  {
   "cell_type": "markdown",
   "metadata": {},
   "source": [
    "Congratulations! You have successfully trained your first Hybrid Quantum-Classical Machine Learning Model!"
   ]
  },
  {
   "cell_type": "markdown",
   "metadata": {},
   "source": [
    "## Next Steps\n",
    "\n",
    "In the next step, I'll expand this example into a more generic case where we can calibrate qubit with expectation values on other operators."
   ]
  }
 ],
 "metadata": {
  "kernelspec": {
   "display_name": "Python 3.7.3 64-bit",
   "language": "python",
   "name": "python37364bitc9dd645a8ceb44adb28e3c6ae0e720f2"
  },
  "language_info": {
   "codemirror_mode": {
    "name": "ipython",
    "version": 3
   },
   "file_extension": ".py",
   "mimetype": "text/x-python",
   "name": "python",
   "nbconvert_exporter": "python",
   "pygments_lexer": "ipython3",
   "version": "3.7.3"
  },
  "name": "Getting-Started-With-TensorFlow-Quantum.ipynb",
  "toc": {
   "base_numbering": 1,
   "nav_menu": {},
   "number_sections": true,
   "sideBar": true,
   "skip_h1_title": false,
   "title_cell": "Table of Contents",
   "title_sidebar": "Contents",
   "toc_cell": false,
   "toc_position": {},
   "toc_section_display": true,
   "toc_window_display": false
  }
 },
 "nbformat": 4,
 "nbformat_minor": 4
}
