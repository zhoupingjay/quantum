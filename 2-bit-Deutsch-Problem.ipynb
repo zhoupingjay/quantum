{
 "cells": [
  {
   "cell_type": "markdown",
   "metadata": {},
   "source": [
    "# 用谷歌Cirq模拟双比特Deutsch问题\n",
    "\n",
    "\n",
    "## 谷歌量子计算框架Cirq\n",
    "Cirq是谷歌开发的开源量子计算框架，它让开发者能够方便的用Python搭建量子电路。您可能会问，我没有量子计算机，如何运行我设计的电路呢？别急，Cirq内置了模拟器，您在自己的电脑上就可以模拟您设计的量子电路。如果想在真实的量子计算机上运行，Cirq也提供了相应的接口。\n",
    "\n",
    "Cirq的源码：https://github.com/quantumlib/Cirq\n",
    "\n",
    "Cirq的安装，最简单的方法是用pip：\n",
    "\n",
    "```\n",
    "python -m pip install --upgrade pip\n",
    "python -m pip install cirq\n",
    "```\n",
    "\n",
    "安装完成，您就可以在电脑上模拟量子计算了！\n",
    "\n",
    "接下来进入实战，我们要用Cirq来模拟双比特Deutsch问题。"
   ]
  },
  {
   "cell_type": "markdown",
   "metadata": {},
   "source": [
    "## 回顾一下双比特Deutsch问题\n",
    "\n",
    "回顾一下双比特Deutsch问题：有人给你一个函数f，不告诉你它内部是怎么运作的，只知道它输入2个比特，输出1个比特，并且f有可能是常量函数（无论什么输入，输出总是0或者总是1），也有可能是平衡函数（对所有可能的输入，一半的情况下输出0，另一半情况输出1）。我们只能通过对f的查询，来判断f的性质。在上文我们讨论过，这样的函数f总共有8种可能（2个常量函数，6个平衡函数）。所以，提问的人实际上是从这8个可能的f函数中，随机抽一个给我们来判断。\n",
    "\n",
    "<img src=\"./images/2-bit deutsch.svg\" width=\"400\" />\n",
    "\n",
    "我们知道量子计算里，每个这样的函数f，都可以包装成相应的可逆变换Uf。所以在量子计算环境下，提问的人实际上是把这8种可能的函数f包装成8个Uf，从里面随机抽一个作为黑盒给我们，让我们判断相应的函数f的性质。\n",
    "\n",
    "所以要模拟双比特Deutsch问题，我们首先要从提问者的角度，把这8个可能的Uf准备出来。\n",
    "\n",
    "**我们从一个简单的例子出发：**\n",
    "\n",
    "假如有这样一个平衡函数函数f，它在输入是00或01的情况下输出0，其余情况下输出1，我们把它和相应的Uf输出列在下面的表里：\n",
    "\n",
    "| 输入 (x0x1) | $$f(x_0x_1)$$ | $$y\\oplus f(x_0x_1)$$ |\n",
    "|------------|---------------|---------------------|\n",
    "| 00 | 0 | y  |\n",
    "| 01 | 0 | y |\n",
    "| 10 | 1 | y取反  |\n",
    "| 11 | 1 | y取反 |\n",
    "\n",
    "从上面这个表中可以看出，Uf的第三个输出端，其状态取决于第一个输入：\n",
    "\n",
    "如果x0=1，那么在第三个输出端输出，反之如果x0=1，那么就输出。这在量子电路里，就是一个简单的CNOT门：CNOT(x0, y)。所以对于上面这个表里的f函数，包装成相应的Uf内部就是一个简单的CNOT门实现。\n",
    "\n",
    "<img src=\"./images/2-bit deutsch 2.svg\" width=\"240\" />\n",
    "\n",
    "**以此类推，对每一个函数f，我们都可以用量子电路来实现相应的Uf。**\n",
    "\n",
    "我们把这些Uf放在一个池子里，模拟的时候从里面随机选一个，作为提问者的问题。"
   ]
  },
  {
   "cell_type": "markdown",
   "metadata": {},
   "source": [
    "## 用Cirq模拟双比特Deutsch问题\n",
    "\n",
    "### 首先我们要导入Cirq包："
   ]
  },
  {
   "cell_type": "code",
   "execution_count": 1,
   "metadata": {},
   "outputs": [],
   "source": [
    "import cirq\n",
    "import random"
   ]
  },
  {
   "cell_type": "markdown",
   "metadata": {},
   "source": [
    "### 然后生成这个Uf池子："
   ]
  },
  {
   "cell_type": "code",
   "execution_count": 2,
   "metadata": {},
   "outputs": [],
   "source": [
    "q0, q1, q2 = cirq.LineQubit.range(3)\n",
    "constant = [[], [cirq.X(q2)]]\n",
    "balanced = [[cirq.CNOT(q0, q2)],\n",
    "            [cirq.CNOT(q1, q2)],\n",
    "            [cirq.CNOT(q0, q2), cirq.CNOT(q1, q2)],\n",
    "            [cirq.CNOT(q0, q2), cirq.X(q2)],\n",
    "            [cirq.CNOT(q1, q2), cirq.X(q2)],\n",
    "            [cirq.CNOT(q0, q2), cirq.CNOT(q1, q2), cirq.X(q2)]]\n",
    "\n",
    "Uf_pool = [\n",
    "    [],            # 常量函数: f(x0x1) = 0\n",
    "    [cirq.X(q2)],  # 常量函数: f(x0x1) = 1\n",
    "    \n",
    "    [cirq.CNOT(q0, q2)], # 平衡函数: f(00/01)=0, f(10/11)=1\n",
    "    [cirq.CNOT(q1, q2)], # 平衡函数\n",
    "    [cirq.CNOT(q0, q2), cirq.CNOT(q1, q2)], # 平衡函数\n",
    "    [cirq.CNOT(q0, q2), cirq.X(q2)],        # 平衡函数\n",
    "    [cirq.CNOT(q1, q2), cirq.X(q2)],        # 平衡函数\n",
    "    [cirq.CNOT(q0, q2), cirq.CNOT(q1, q2), cirq.X(q2)] # 平衡函数\n",
    "]\n",
    "Uf_attributes = [\n",
    "    \"constant\",\n",
    "    \"constant\",\n",
    "    \"balanced\",\n",
    "    \"balanced\",\n",
    "    \"balanced\",\n",
    "    \"balanced\",\n",
    "    \"balanced\",\n",
    "    \"balanced\",\n",
    "]"
   ]
  },
  {
   "cell_type": "markdown",
   "metadata": {},
   "source": [
    "### 根据Uf生成量子电路\n",
    "\n",
    "接下来，我们要写一个函数，根据提问者给出的Uf，生成相应的量子电路。\n",
    "\n",
    "<img src=\"./images/2-bit deutsch 3.svg\" width=\"400\" />"
   ]
  },
  {
   "cell_type": "code",
   "execution_count": 3,
   "metadata": {},
   "outputs": [],
   "source": [
    "def generate_two_bit_deutsch(Uf):\n",
    "    # 默认初始输入都是|0>, 所以q2先要用X变成|1>\n",
    "    circuit = cirq.Circuit([cirq.X(q2)])\n",
    "    circuit.append([cirq.H(q0), cirq.H(q1), cirq.H(q2)],\n",
    "                   strategy=cirq.InsertStrategy.NEW_THEN_INLINE)\n",
    "    \n",
    "    # 接入提问者给的Uf\n",
    "    circuit.append(Uf, strategy=cirq.InsertStrategy.NEW_THEN_INLINE)\n",
    "    \n",
    "    # 输出端再加上H和M门\n",
    "    circuit.append([cirq.H(q0), cirq.H(q1)],\n",
    "                  strategy=cirq.InsertStrategy.NEW_THEN_INLINE)\n",
    "    circuit.append([cirq.measure(q0), cirq.measure(q1)],\n",
    "                  strategy=cirq.InsertStrategy.NEW_THEN_INLINE)\n",
    "\n",
    "    return circuit"
   ]
  },
  {
   "cell_type": "markdown",
   "metadata": {},
   "source": [
    "试试这个函数生成的量子电路："
   ]
  },
  {
   "cell_type": "code",
   "execution_count": 10,
   "metadata": {},
   "outputs": [
    {
     "name": "stdout",
     "output_type": "stream",
     "text": [
      "0: ───────H───@───────H───M───\n",
      "              │\n",
      "1: ───────H───┼───@───H───M───\n",
      "              │   │\n",
      "2: ───X───H───X───X───────────\n"
     ]
    }
   ],
   "source": [
    "# 用Uf_pool[4]生成电路，并打印出来\n",
    "print(generate_two_bit_deutsch(Uf_pool[4]))"
   ]
  },
  {
   "cell_type": "markdown",
   "metadata": {},
   "source": [
    "两边H门之间的就是提问者给的Uf。"
   ]
  },
  {
   "cell_type": "code",
   "execution_count": null,
   "metadata": {},
   "outputs": [],
   "source": [
    "# 测试一下，把池子里所有的电路都打印出来\n",
    "for pick in range(0,8):\n",
    "    Uf = Uf_pool[pick]\n",
    "    Uf_attr = Uf_attributes[pick]\n",
    "    circuit = generate_two_bit_deutsch(Uf)\n",
    "    print(\"Circuit for Uf_pool[{}]: {}\".format(pick, Uf))\n",
    "    print(circuit)"
   ]
  },
  {
   "cell_type": "markdown",
   "metadata": {},
   "source": [
    "### 模拟提问和回答的过程\n",
    "\n",
    "接下来我们来模拟提问和回答的过程：\n",
    "- 提问者随机选一个Uf给我们\n",
    "- 我们用这个Uf生成量子电路\n",
    "- 用模拟器运行生成的量子电路\n",
    "- 根据电路运行结果，判断函数f的性质\n",
    "\n",
    "模拟过程代码如下："
   ]
  },
  {
   "cell_type": "code",
   "execution_count": 11,
   "metadata": {},
   "outputs": [
    {
     "name": "stdout",
     "output_type": "stream",
     "text": [
      "Random pick Uf[1]: [cirq.X.on(cirq.LineQubit(2))]\n",
      "Generated circuit\n",
      "0: ───────H───────H───M───\n",
      "\n",
      "1: ───────H───────H───M───\n",
      "\n",
      "2: ───X───H───X───────────\n",
      "0=0\n",
      "1=0\n",
      "Our result:    constant\n",
      "Actual result: constant\n"
     ]
    }
   ],
   "source": [
    "# 提问者随机选一个Uf给我们\n",
    "random.seed()\n",
    "pick = random.randint(0, 7)\n",
    "Uf = Uf_pool[pick]\n",
    "Uf_attr = Uf_attributes[pick]\n",
    "print(\"Random pick Uf[{}]: {}\".format(pick, Uf))\n",
    "\n",
    "# 我们用这个Uf生成量子电路\n",
    "circuit = generate_two_bit_deutsch(Uf)\n",
    "print(\"Generated circuit\")\n",
    "print(circuit)\n",
    "\n",
    "simulator = cirq.Simulator()\n",
    "result = simulator.run(circuit)\n",
    "print(result)\n",
    "\n",
    "# simulator 返回的是一个pandas DataFrame\n",
    "if result.data.loc[0][0] == 0 and result.data.loc[0][1] == 0:\n",
    "    print(\"Our result:    constant\")\n",
    "    print(\"Actual result: {}\".format(Uf_attr))\n",
    "else:\n",
    "    print(\"Our result:    balanced\")\n",
    "    print(\"Actual result: {}\".format(Uf_attr))"
   ]
  },
  {
   "cell_type": "markdown",
   "metadata": {},
   "source": [
    "多跑几次，可以看到无论提问者抽哪个Uf，我们的量子电路总能判断出正确的函数性质。而且更重要的是，**我们只需要对函数f进行一次查询！**"
   ]
  }
 ],
 "metadata": {
  "kernelspec": {
   "display_name": "Python 3.7.3 64-bit",
   "language": "python",
   "name": "python37364bitc9dd645a8ceb44adb28e3c6ae0e720f2"
  },
  "language_info": {
   "codemirror_mode": {
    "name": "ipython",
    "version": 3
   },
   "file_extension": ".py",
   "mimetype": "text/x-python",
   "name": "python",
   "nbconvert_exporter": "python",
   "pygments_lexer": "ipython3",
   "version": "3.7.3"
  }
 },
 "nbformat": 4,
 "nbformat_minor": 2
}
