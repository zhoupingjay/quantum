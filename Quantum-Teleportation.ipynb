{
 "cells": [
  {
   "cell_type": "markdown",
   "metadata": {},
   "source": [
    "# 用Cirq模拟量子隐形传态过程\n",
    "\n",
    "这里我们用谷歌的Cirq框架来模拟量子隐形传态的过程：Alice这里有一个量子比特$|\\psi\\rangle$，通过量子隐形传态电路，把状态传送到Bob那里。\n",
    "\n",
    "关于量子隐形传态的原理，请参见[我的相关文章](https://mp.weixin.qq.com/s?__biz=MzI4ODYxNDY5NA==&mid=2247484394&idx=1&sn=e167ed2e9427fe35ed5a0bc320b19a45&chksm=ec3af3a3db4d7ab5281f3d17ce86cd56e9043316667c9f51d23643cbd444b02535f2faf26cc1&scene=178&cur_album_id=1504407355969617921#rd)。\n",
    "\n",
    "## 制备纠缠态的量子比特\n",
    "\n",
    "要在Alice和Bob之间实现量子隐形传态，首先需要用到一对纠缠态的量子比特。这可以通过一个H门和一个CNOT门来实现：\n",
    "\n",
    "<img src=\"./images/Entanglement.svg\" width=\"320\" />\n",
    "\n",
    "为简化后面的量子电路，可以把这里的H门和CNOT门包装成一个自定义的复合门，这样也方便以后重用。我们把这个自定义门起名叫“纠缠门”（EntangleGate）。"
   ]
  },
  {
   "cell_type": "code",
   "execution_count": 81,
   "metadata": {},
   "outputs": [],
   "source": [
    "import cirq\n",
    "import numpy as np\n",
    "\n",
    "# 创建一个自定义门 - “纠缠门”，输入2个量子比特\n",
    "class EntangleGate(cirq.ops.gate_features.TwoQubitGate):\n",
    "    # 内部就是一个H门和一个CNOT门\n",
    "    def _decompose_(self, qubits):\n",
    "        q0, q1 = qubits\n",
    "        yield cirq.H(q0),\n",
    "        yield cirq.CNOT(q0, q1)\n",
    "\n",
    "    # 打印的时候如何显示这个门？\n",
    "    def _circuit_diagram_info_(self, args):\n",
    "        return cirq.protocols.CircuitDiagramInfo(wire_symbols=('E', 'E'))"
   ]
  },
  {
   "cell_type": "markdown",
   "metadata": {},
   "source": [
    "试验一下这个自定义门："
   ]
  },
  {
   "cell_type": "code",
   "execution_count": 82,
   "metadata": {},
   "outputs": [
    {
     "name": "stdout",
     "output_type": "stream",
     "text": [
      "𝜙0: ───E───\n",
      "       │\n",
      "𝜙1: ───E───\n"
     ]
    }
   ],
   "source": [
    "𝜙0 = cirq.NamedQubit(\"𝜙0\")\n",
    "𝜙1 = cirq.NamedQubit(\"𝜙1\")\n",
    "\n",
    "circuit = cirq.Circuit(EntangleGate().on(𝜙0, 𝜙1))\n",
    "print(circuit)"
   ]
  },
  {
   "cell_type": "markdown",
   "metadata": {},
   "source": [
    "经过这个“纠缠门”，我们就得到了一对纠缠态的量子比特$|\\phi_0\\rangle$和$|\\phi_1\\rangle$。"
   ]
  },
  {
   "cell_type": "markdown",
   "metadata": {},
   "source": [
    "## 量子隐形传态\n",
    "\n",
    "完整的量子隐形传态的电路如下图所示：\n",
    "\n",
    "<img src=\"./images/Quantum Teleportation.svg\" width=\"600\" />"
   ]
  },
  {
   "cell_type": "markdown",
   "metadata": {},
   "source": [
    "## Alice这边的电路\n",
    "\n",
    "Alice这边，除了一对纠缠态量子比特$|\\phi_0\\rangle$, $|\\phi_1\\rangle$外，还有一个要传送的量子比特$|\\psi\\rangle$。量子隐形传态的目的，就是在Bob那里得到一个与$|\\psi\\rangle$状态相同的量子比特。\n",
    "\n",
    "Alice这边要做的事：\n",
    "- 准备要传送的量子比特\n",
    "- 准备纠缠态的量子比特对，一个给Bob，一个留给自己\n",
    "- 运行电路，然后把测量结果（m1, m2）告诉Bob"
   ]
  },
  {
   "cell_type": "code",
   "execution_count": 83,
   "metadata": {},
   "outputs": [],
   "source": [
    "# 要传送的量子比特\n",
    "𝜓 = cirq.NamedQubit(\"𝜓\")\n",
    "# 纠缠态的量子比特对\n",
    "𝜙0 = cirq.NamedQubit(\"𝜙0\")\n",
    "𝜙1 = cirq.NamedQubit(\"𝜙1\")"
   ]
  },
  {
   "cell_type": "markdown",
   "metadata": {},
   "source": [
    "Cirq里面量子比特初始状态都是$|0\\rangle$，所以Alice这边$|\\psi\\rangle$初始状态也是$|0\\rangle$。\n",
    "为了验证隐形传态的过程，我们需要对$|\\psi\\rangle$做一些变换，让它变成非$|0\\rangle$，然后到Bob那边去验证收到的状态。\n",
    "\n",
    "这里定义一个函数``prepare_psi``来对$|\\psi\\rangle$做变换："
   ]
  },
  {
   "cell_type": "code",
   "execution_count": 84,
   "metadata": {},
   "outputs": [
    {
     "name": "stdout",
     "output_type": "stream",
     "text": [
      "[0.707+0.j    0.   -0.707j]\n"
     ]
    }
   ],
   "source": [
    "# 对|𝜓⟩进行任意角度的RX变换\n",
    "def prepare_psi(rx):\n",
    "    return cirq.Circuit(cirq.rx(rx).on(𝜓))\n",
    "\n",
    "# 要传送的量子比特|𝜓⟩：|0⟩绕X轴旋转 π/2\n",
    "circuit = prepare_psi(rx=np.pi/2)\n",
    "\n",
    "# 首先跑一下这个准备电路，把|𝜓⟩的状态记下来，以备后面验证\n",
    "result = cirq.Simulator().simulate(circuit)\n",
    "\n",
    "print(np.round(result.final_state,3))\n",
    "\n",
    "# 把|𝜓⟩这时的状态记下来，以备后面验证\n",
    "psi_state = result.final_state"
   ]
  },
  {
   "cell_type": "markdown",
   "metadata": {},
   "source": [
    "接下来我们来搭建Alice这边的电路。"
   ]
  },
  {
   "cell_type": "code",
   "execution_count": 85,
   "metadata": {},
   "outputs": [
    {
     "data": {
      "image/svg+xml": [
       "<svg xmlns=\"http://www.w3.org/2000/svg\" width=\"363.9494921875\" height=\"150.0\"><line x1=\"30.0\" x2=\"333.9494921875\" y1=\"25.0\" y2=\"25.0\" stroke=\"#1967d2\" stroke-width=\"1\" /><line x1=\"30.0\" x2=\"333.9494921875\" y1=\"75.0\" y2=\"75.0\" stroke=\"#1967d2\" stroke-width=\"1\" /><line x1=\"30.0\" x2=\"333.9494921875\" y1=\"125.0\" y2=\"125.0\" stroke=\"#1967d2\" stroke-width=\"1\" /><line x1=\"101.97474609375\" x2=\"101.97474609375\" y1=\"75.0\" y2=\"125.0\" stroke=\"black\" stroke-width=\"3\" /><line x1=\"173.9494921875\" x2=\"173.9494921875\" y1=\"25.0\" y2=\"75.0\" stroke=\"black\" stroke-width=\"3\" /><rect x=\"10.0\" y=\"5.0\" width=\"40\" height=\"40\" stroke=\"black\" fill=\"white\" stroke-width=\"0\" /><text x=\"30.0\" y=\"25.0\" dominant-baseline=\"middle\" text-anchor=\"middle\" font-size=\"14px\">𝜓: </text><rect x=\"10.0\" y=\"55.0\" width=\"40\" height=\"40\" stroke=\"black\" fill=\"white\" stroke-width=\"0\" /><text x=\"30.0\" y=\"75.0\" dominant-baseline=\"middle\" text-anchor=\"middle\" font-size=\"14px\">𝜙0: </text><rect x=\"10.0\" y=\"105.0\" width=\"40\" height=\"40\" stroke=\"black\" fill=\"white\" stroke-width=\"0\" /><text x=\"30.0\" y=\"125.0\" dominant-baseline=\"middle\" text-anchor=\"middle\" font-size=\"14px\">𝜙1: </text><rect x=\"70.0\" y=\"5.0\" width=\"63.9494921875\" height=\"40\" stroke=\"black\" fill=\"white\" stroke-width=\"1\" /><text x=\"101.97474609375\" y=\"25.0\" dominant-baseline=\"middle\" text-anchor=\"middle\" font-size=\"14px\">Rx(0.5π)</text><rect x=\"70.0\" y=\"55.0\" width=\"63.9494921875\" height=\"40\" stroke=\"black\" fill=\"white\" stroke-width=\"1\" /><text x=\"101.97474609375\" y=\"75.0\" dominant-baseline=\"middle\" text-anchor=\"middle\" font-size=\"18px\">E</text><rect x=\"70.0\" y=\"105.0\" width=\"63.9494921875\" height=\"40\" stroke=\"black\" fill=\"white\" stroke-width=\"1\" /><text x=\"101.97474609375\" y=\"125.0\" dominant-baseline=\"middle\" text-anchor=\"middle\" font-size=\"18px\">E</text><circle cx=\"173.9494921875\" cy=\"25.0\" r=\"10.0\" /><rect x=\"153.9494921875\" y=\"55.0\" width=\"40\" height=\"40\" stroke=\"black\" fill=\"white\" stroke-width=\"1\" /><text x=\"173.9494921875\" y=\"75.0\" dominant-baseline=\"middle\" text-anchor=\"middle\" font-size=\"18px\">X</text><rect x=\"213.9494921875\" y=\"5.0\" width=\"40\" height=\"40\" stroke=\"black\" fill=\"white\" stroke-width=\"1\" /><text x=\"233.9494921875\" y=\"25.0\" dominant-baseline=\"middle\" text-anchor=\"middle\" font-size=\"18px\">H</text><rect x=\"273.9494921875\" y=\"55.0\" width=\"40\" height=\"40\" stroke=\"black\" fill=\"white\" stroke-width=\"1\" /><text x=\"293.9494921875\" y=\"75.0\" dominant-baseline=\"middle\" text-anchor=\"middle\" font-size=\"18px\">M</text><rect x=\"273.9494921875\" y=\"5.0\" width=\"40\" height=\"40\" stroke=\"black\" fill=\"white\" stroke-width=\"1\" /><text x=\"293.9494921875\" y=\"25.0\" dominant-baseline=\"middle\" text-anchor=\"middle\" font-size=\"18px\">M</text></svg>"
      ],
      "text/plain": [
       "<cirq.contrib.svg.svg.SVGCircuit at 0x7fdbb7bf64a8>"
      ]
     },
     "execution_count": 85,
     "metadata": {},
     "output_type": "execute_result"
    }
   ],
   "source": [
    "from cirq.contrib.svg import SVGCircuit\n",
    "\n",
    "# 准备纠缠态的量子比特对|𝜙0⟩, |𝜙1⟩\n",
    "circuit.append(EntangleGate().on(𝜙0, 𝜙1))\n",
    "\n",
    "# CNOT门：|𝜓⟩-|𝜙0⟩，然后|𝜓⟩上加H门\n",
    "circuit.append([cirq.CNOT(𝜓, 𝜙0), cirq.H(𝜓)],\n",
    "               strategy=cirq.InsertStrategy.NEW_THEN_INLINE)\n",
    "\n",
    "# 对|𝜓⟩，|𝜙0⟩进行测量\n",
    "circuit.append([cirq.measure(𝜙0), cirq.measure(𝜓)],\n",
    "               strategy=cirq.InsertStrategy.NEW_THEN_INLINE) \n",
    "\n",
    "SVGCircuit(circuit)\n",
    "# print(circuit)"
   ]
  },
  {
   "cell_type": "markdown",
   "metadata": {},
   "source": [
    "Alice运行这个电路，得到$|\\psi\\phi_0\\rangle$的测量值："
   ]
  },
  {
   "cell_type": "code",
   "execution_count": 87,
   "metadata": {},
   "outputs": [
    {
     "name": "stdout",
     "output_type": "stream",
     "text": [
      "Alice: Measure(𝜓) = 0, Measure(𝜙0) = 0\n"
     ]
    }
   ],
   "source": [
    "result_alice = cirq.Simulator().simulate(circuit, qubit_order=[𝜓, 𝜙0, 𝜙1])\n",
    "m_psi = int(result_alice.measurements['𝜓'][0])\n",
    "m_phi0 = int(result_alice.measurements['𝜙0'][0])\n",
    "print(\"Alice: Measure(𝜓) = {}, Measure(𝜙0) = {}\".format(m_psi, m_phi0))"
   ]
  },
  {
   "cell_type": "markdown",
   "metadata": {},
   "source": [
    "## Bob这边的电路\n",
    "\n",
    "假设要传送的量子比特状态是$|\\psi\\rangle=(\\alpha|0\\rangle+\\beta|1\\rangle)$。\n",
    "Alice把前面测量得到的结果告诉Bob，然后Bob根据得到的信息，对手里的$|\\phi_1\\rangle$进行相应的变换，从而把它的状态变成和$|\\psi\\rangle$一样：\n",
    "- 如果Alice测量$|\\psi\\phi_0\\rangle$得到00，什么也不用做，$|\\phi_1\\rangle$状态已经是$(\\alpha|0\\rangle+\\beta|1\\rangle)$。\n",
    "- 如果Alice测量$|\\psi\\phi_0\\rangle$得到01，那么$|\\phi_1\\rangle=(\\beta|0\\rangle+\\alpha|1\\rangle)$，对它做一个X变换就可以变成$(\\alpha|0\\rangle+\\beta|1\\rangle)$。\n",
    "- 如果Alice测量$|\\psi\\phi_0\\rangle$得到10，那么$|\\phi_1\\rangle=(\\alpha|0\\rangle-\\beta|1\\rangle)$，对它做一个Z变换就可以变成$(\\alpha|0\\rangle+\\beta|1\\rangle)$。\n",
    "- 如果Alice测量$|\\psi\\phi_0\\rangle$得到11，那么$|\\phi_1\\rangle=(\\alpha|1\\rangle-\\beta|0\\rangle)$，对它做一个X变换再加一个Z变换，就可以变成$(\\alpha|0\\rangle+\\beta|1\\rangle)$。"
   ]
  },
  {
   "cell_type": "markdown",
   "metadata": {},
   "source": [
    "怎么来模拟Bob这边的过程呢？\n",
    "\n",
    "Bob这里有一个量子比特$|\\phi_1\\rangle$，当Bob得到Alice发来的测量结果后，$|\\phi_1\\rangle$的状态必然是上述4种状态之一。Bob要根据Alice发来的信息，决定在$|\\phi_1\\rangle$后面加上什么门。"
   ]
  },
  {
   "cell_type": "code",
   "execution_count": 89,
   "metadata": {},
   "outputs": [
    {
     "name": "stdout",
     "output_type": "stream",
     "text": [
      "Alice: Measure(𝜓) = 0, Measure(𝜙0) = 0\n"
     ]
    }
   ],
   "source": [
    "# 根据Alice测量|𝜓𝜙0⟩ 的结果，返回要对𝜙1进行的变换\n",
    "def generate_bob_circuit(m_psi, m_phi0):\n",
    "    if m_psi == 0 and m_phi0 == 0:\n",
    "        # 测量 |𝜓𝜙0⟩ 得到00，什么也不用做\n",
    "        return cirq.Circuit()\n",
    "    elif m_psi == 0 and m_phi0 == 1:\n",
    "        # 测量 |𝜓𝜙0⟩ 得到01，对|𝜙1⟩做一个X变换\n",
    "        return cirq.Circuit(cirq.X(𝜙1))\n",
    "    elif m_psi == 1 and m_phi0 == 0:\n",
    "        # 测量 |𝜓𝜙0⟩ 得到10，对|𝜙1⟩做一个Z变换\n",
    "        return cirq.Circuit(cirq.Z(𝜙1))\n",
    "    elif m_psi == 1 and m_phi0 == 1:\n",
    "        # 测量 |𝜓𝜙0⟩ 得到11，对|𝜙1⟩做一个X变换再加Z变换\n",
    "        return cirq.Circuit(cirq.X(𝜙1), cirq.Z(𝜙1))\n",
    "\n",
    "circuit_bob = generate_bob_circuit(m_psi, m_phi0)\n",
    "print(\"Alice: Measure(𝜓) = {}, Measure(𝜙0) = {}\".format(m_psi, m_phi0))"
   ]
  },
  {
   "cell_type": "markdown",
   "metadata": {},
   "source": [
    "然后我们要跑Bob的电路，但这里又有个问题：\n",
    "\n",
    "每次用Simulator跑电路，都会重新初始化其中的量子比特，所以Bob这里的$|\\phi_1\\rangle$会被重新初始化！\n",
    "\n",
    "所以要模拟Bob的过程，我们需要把Bob这边的电路（即$|\\phi_1\\rangle$）**初始化**成Alice那边运行后的状态。这就相当于把两边的模拟过程接起来了！\n",
    "\n",
    "所以我们要做的是：\n",
    "- 在Alice运行电路后，记下运行后的状态，这个在前面的代码里，已经记在```result_alice```里了；\n",
    "- 用Alice这边的$|\\phi_1\\rangle$状态向量，来初始化Bob这边的电路。"
   ]
  },
  {
   "cell_type": "markdown",
   "metadata": {},
   "source": [
    "### 关于Cirq里的状态向量\n",
    "\n",
    "关于状态向量，这里多解释几句。例如我们有个系统，其中有3个量子比特，分别表示成\n",
    "\n",
    "$$\n",
    "\\alpha_0|0\\rangle + \\beta_0|1\\rangle, \\\\\n",
    "\\alpha_1|0\\rangle + \\beta_1|1\\rangle, \\\\\n",
    "\\alpha_2|0\\rangle + \\beta_2|1\\rangle,\n",
    "$$\n",
    "\n",
    "那么这个系统的状态向量就是这3个量子比特的向量的张量积(Tensor Product/Kronecker Product)：\n",
    "\n",
    "$$\n",
    "\\begin{pmatrix}\n",
    "\\alpha_0 \\\\\n",
    "\\beta_0\n",
    "\\end{pmatrix}\n",
    "\\otimes\n",
    "\\begin{pmatrix}\n",
    "\\alpha_1 \\\\\n",
    "\\beta_1\n",
    "\\end{pmatrix}\n",
    "\\otimes\n",
    "\\begin{pmatrix}\n",
    "\\alpha_2 \\\\\n",
    "\\beta_2\n",
    "\\end{pmatrix}\n",
    "=\n",
    "\\begin{pmatrix}\n",
    "\\alpha_0\\alpha_1\\alpha_2 \\\\\n",
    "\\alpha_0\\alpha_1\\beta_2 \\\\\n",
    "\\alpha_0\\beta_1\\alpha_2 \\\\\n",
    "\\alpha_0\\beta_1\\beta_2 \\\\\n",
    "\\beta_0\\alpha_1\\alpha_2 \\\\\n",
    "\\beta_0\\alpha_1\\beta_2 \\\\\n",
    "\\beta_0\\beta_1\\alpha_2 \\\\\n",
    "\\beta_0\\beta_1\\beta_2\n",
    "\\end{pmatrix}\n",
    "$$\n",
    "\n",
    "上面的矩阵还告诉我们，如果用计算基矢(Computational Basis)来表示的话，系统的当前状态是$|000\\rangle, |001\\rangle, \\cdots, |111\\rangle$等计算基矢的叠加态：\n",
    "$$\n",
    "\\alpha_0\\alpha_1\\alpha_2 |000\\rangle +\\\\\n",
    "\\alpha_0\\alpha_1\\beta_2 |001\\rangle +\\\\\n",
    "\\alpha_0\\beta_1\\alpha_2 |010\\rangle +\\\\\n",
    "\\alpha_0\\beta_1\\beta_2 |011\\rangle +\\\\\n",
    "\\beta_0\\alpha_1\\alpha_2 |100\\rangle +\\\\\n",
    "\\beta_0\\alpha_1\\beta_2 |101\\rangle +\\\\\n",
    "\\beta_0\\beta_1\\alpha_2 |110\\rangle +\\\\\n",
    "\\beta_0\\beta_1\\beta_2 |111\\rangle\n",
    "$$\n",
    "\n",
    "在Cirq里面，系统的状态向量就是用这样一组复数来表示，并且按照上面的Kronecker顺序排列。我们运行模拟器，返回得到的``results``里有一个``final_state``成员，就是当前系统的状态向量。例如前面我们看到：\n",
    "```python\n",
    "result_alice = cirq.Simulator().simulate(circuit, qubit_order=[𝜓, 𝜙0, 𝜙1])\n",
    "```\n",
    "如果我们查看``result_alice.final_state``，里面就有系统的状态向量，包含了8个复数。\n",
    "\n",
    "前面我们说到，Alice的电路有三个量子比特，已经测量了前两个量子比特，现在要的是第三个的状态向量。\n",
    "\n",
    "先看一个简单的例子，如果前两个量子比特的测量结果是00，对上面的式子意味着什么？\n",
    "- 第一个量子比特测量后是$|0\\rangle$，也就是说$\\alpha_0=1, \\beta_0=0$.\n",
    "- 同理，第二个量子比特测量后也是$|0\\rangle$，也就是说$\\alpha_1=1, \\beta_1=0$.\n",
    "放到上面的式子里，整个系统的状态就变成了\n",
    "$$\n",
    "\\alpha_0\\alpha_1\\alpha_2 |000\\rangle +\n",
    "\\alpha_0\\alpha_1\\beta_2 |001\\rangle = \\\\\n",
    "\\alpha_2 |000\\rangle + \\beta_2 |001\\rangle\n",
    "$$\n",
    "因为$\\beta_0=0, \\beta_1=0$，其他项都变成0消掉了。\n",
    "\n",
    "所以，如果前两个量子比特测量结果是00，那么第三个量子比特的状态就是前面8个叠加项的第一和第二项，我们只要看``result_alice.final_state``的第一和第二项，就能得到$|\\phi_1\\rangle$的状态：\n",
    "```result_alice.final_state[0:2]```\n",
    "\n",
    "同理：\n",
    "- 如果前两个量子比特测量结果是01，那么第三个量子比特$\\phi_1$的状态就在``result_alice.final_state[2:4]``里；\n",
    "- 如果前两个量子比特测量结果是10，那么第三个量子比特$\\phi_1$的状态就在``result_alice.final_state[4:6]``里；\n",
    "- 如果前两个量子比特测量结果是11，那么第三个量子比特$\\phi_1$的状态就在``result_alice.final_state[6:8]``里；\n",
    "\n",
    "另外还要注意的是，真实的量子计算机里一般是不能获取系统的状态向量的，这种方法只适用于模拟器环境。"
   ]
  },
  {
   "cell_type": "markdown",
   "metadata": {},
   "source": [
    "到这里，我们知道如何根据Alice的测量结果，得到$|\\phi_1\\rangle$的状态向量。接下来我们就可以用这个状态向量，来初始化Bob这边的电路，这样就把两边电路的状态接起来了。\n",
    "\n",
    "定义一个函数，根据Alice的测量结果，返回$|\\phi_1\\rangle$的状态向量："
   ]
  },
  {
   "cell_type": "code",
   "execution_count": 90,
   "metadata": {},
   "outputs": [],
   "source": [
    "# 根据Alice的测量结果，返回|𝜙1⟩的状态向量，用来初始化Bob的电路\n",
    "def bob_phi_1_state(m_psi, m_phi0, result_alice):\n",
    "    if m_psi == 0 and m_phi0 == 0:\n",
    "        return result_alice.final_state[0:2]\n",
    "    elif m_psi == 0 and m_phi0 == 1:\n",
    "        return result_alice.final_state[2:4]\n",
    "    elif m_psi == 1 and m_phi0 == 0:\n",
    "        return result_alice.final_state[4:6]\n",
    "    elif m_psi == 1 and m_phi0 == 1:\n",
    "        return result_alice.final_state[6:8]\n",
    "\n",
    "bob_initial_state = bob_phi_1_state(m_psi, m_phi0, result_alice)"
   ]
  },
  {
   "cell_type": "markdown",
   "metadata": {},
   "source": [
    "然后Bob运行电路的时候，用这个状态向量来初始化$|\\phi_1\\rangle$。在调用``Simulator``的时候，传入``initial_state``参数："
   ]
  },
  {
   "cell_type": "code",
   "execution_count": 91,
   "metadata": {},
   "outputs": [
    {
     "name": "stdout",
     "output_type": "stream",
     "text": [
      "Bob     |𝜙1⟩: [0.707+0.j    0.   -0.707j]\n",
      "Alice   |𝜓⟩:  [0.707+0.j    0.   -0.707j]\n"
     ]
    }
   ],
   "source": [
    "result_bob = cirq.Simulator().simulate(circuit_bob,\n",
    "                                       qubit_order=[𝜙1],\n",
    "                                       initial_state=bob_initial_state)\n",
    "\n",
    "print(\"Bob     |𝜙1⟩:\", np.round(result_bob.final_state, 3))\n",
    "print(\"Alice   |𝜓⟩: \", np.round(psi_state, 3))"
   ]
  },
  {
   "cell_type": "markdown",
   "metadata": {},
   "source": [
    "多试几次，你会发现结果都是一致的。因此，Bob那边得到了和原先$|\\psi\\rangle$状态一样的量子比特！\n",
    "\n",
    "另外要注意的是，量子信息有**不可复制性**。在这个时候原先的$|\\psi\\rangle$已经被测量坍缩了（记得我们在Alice那边做的测量吗？），所以并不存在2个$|\\psi\\rangle$副本的问题。我们之所以能在这里打印出它的状态，是因为我们利用模拟器的特性，在制备的时候把它的状态向量记下来，放到这里做验证用。"
   ]
  },
  {
   "cell_type": "markdown",
   "metadata": {},
   "source": [
    "## 备注：Tensor Product\n",
    "\n",
    "$$\n",
    "A \\otimes B =\n",
    "\\begin{bmatrix}\n",
    "a_{11}B & \\cdots & a_{1n}B \\\\\n",
    "\\vdots & \\ddots & \\vdots \\\\\n",
    "a_{1m}B & \\cdots & a_{mn}B \\\\\n",
    "\\end{bmatrix}\n",
    "$$"
   ]
  },
  {
   "cell_type": "code",
   "execution_count": null,
   "metadata": {},
   "outputs": [],
   "source": []
  }
 ],
 "metadata": {
  "kernelspec": {
   "display_name": "Python 3.7.3 64-bit",
   "language": "python",
   "name": "python37364bitc9dd645a8ceb44adb28e3c6ae0e720f2"
  },
  "language_info": {
   "codemirror_mode": {
    "name": "ipython",
    "version": 3
   },
   "file_extension": ".py",
   "mimetype": "text/x-python",
   "name": "python",
   "nbconvert_exporter": "python",
   "pygments_lexer": "ipython3",
   "version": "3.7.3"
  }
 },
 "nbformat": 4,
 "nbformat_minor": 2
}
